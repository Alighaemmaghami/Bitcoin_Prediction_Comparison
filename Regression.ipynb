{
 "cells": [
  {
   "cell_type": "code",
   "execution_count": 3,
   "id": "f9261320",
   "metadata": {
    "id": "f9261320"
   },
   "outputs": [],
   "source": [
    "# Import libraries\n",
    "import numpy as np\n",
    "import pandas as pd\n",
    "import torch\n",
    "import matplotlib.pyplot as plt\n",
    "import os\n",
    "\n",
    "from sklearn.model_selection import train_test_split\n",
    "from torch.utils.data import TensorDataset, DataLoader\n",
    "from sklearn.metrics import mean_squared_error, mean_absolute_error, r2_score, mean_absolute_percentage_error\n",
    "import random\n",
    "import copy\n",
    "\n",
    "from sklearn.linear_model import LinearRegression\n",
    "from sklearn.preprocessing import PolynomialFeatures\n",
    "\n",
    "\n",
    "import warnings\n",
    "warnings.filterwarnings(\"ignore\") # In order not to show the warnings in the notebook\n"
   ]
  },
  {
   "cell_type": "markdown",
   "id": "2e99be39",
   "metadata": {},
   "source": [
    "# Introduction\n",
    "The bitcoin\n",
    "price prediction that has been worked on in this project is a\n",
    "regression problem, where the prediction model predicts the\n",
    "next Bitcoin price based on the previous. We studied, implemented and compared various Machine Learning and deep\n",
    "learning methods, such as, prophet, Convolutional Neural\n",
    "Network (CNN) and long short-term memory (LSTM)."
   ]
  },
  {
   "cell_type": "markdown",
   "id": "c333f964",
   "metadata": {},
   "source": [
    "## Data Used\n",
    "\n",
    "The dataset in the project is imported by Python using\n",
    "Yahoo APIs and contains the USD bitcoin price of each day\n",
    "from 2014 to 2021 and it includes six features: Open indicates the price at the beginning of the day, Close indicates\n",
    "the price at the end of the day, Adjusted Close, Volume of\n",
    "the sale, High price of the day and Low price of the day."
   ]
  },
  {
   "cell_type": "markdown",
   "id": "79e1bd21",
   "metadata": {
    "id": "79e1bd21"
   },
   "source": [
    "## Data Preprocessing"
   ]
  },
  {
   "cell_type": "markdown",
   "id": "a0c9fdf8",
   "metadata": {
    "id": "a0c9fdf8"
   },
   "source": [
    "### Importing and Analysing the Data"
   ]
  },
  {
   "cell_type": "code",
   "execution_count": 4,
   "id": "54c76dee",
   "metadata": {
    "colab": {
     "base_uri": "https://localhost:8080/",
     "height": 237
    },
    "id": "54c76dee",
    "outputId": "cf209b28-6e95-453e-8075-d153a7c8cdbf",
    "scrolled": true
   },
   "outputs": [
    {
     "data": {
      "text/html": [
       "<div>\n",
       "<style scoped>\n",
       "    .dataframe tbody tr th:only-of-type {\n",
       "        vertical-align: middle;\n",
       "    }\n",
       "\n",
       "    .dataframe tbody tr th {\n",
       "        vertical-align: top;\n",
       "    }\n",
       "\n",
       "    .dataframe thead th {\n",
       "        text-align: right;\n",
       "    }\n",
       "</style>\n",
       "<table border=\"1\" class=\"dataframe\">\n",
       "  <thead>\n",
       "    <tr style=\"text-align: right;\">\n",
       "      <th></th>\n",
       "      <th>Open</th>\n",
       "      <th>High</th>\n",
       "      <th>Low</th>\n",
       "      <th>Adj Close</th>\n",
       "      <th>Volume</th>\n",
       "      <th>Close</th>\n",
       "    </tr>\n",
       "    <tr>\n",
       "      <th>Date</th>\n",
       "      <th></th>\n",
       "      <th></th>\n",
       "      <th></th>\n",
       "      <th></th>\n",
       "      <th></th>\n",
       "      <th></th>\n",
       "    </tr>\n",
       "  </thead>\n",
       "  <tbody>\n",
       "    <tr>\n",
       "      <th>2014-09-16</th>\n",
       "      <td>465.864014</td>\n",
       "      <td>468.174011</td>\n",
       "      <td>452.421997</td>\n",
       "      <td>457.334015</td>\n",
       "      <td>21056800.0</td>\n",
       "      <td>457.334015</td>\n",
       "    </tr>\n",
       "    <tr>\n",
       "      <th>2014-09-17</th>\n",
       "      <td>456.859985</td>\n",
       "      <td>456.859985</td>\n",
       "      <td>413.104004</td>\n",
       "      <td>424.440002</td>\n",
       "      <td>34483200.0</td>\n",
       "      <td>424.440002</td>\n",
       "    </tr>\n",
       "    <tr>\n",
       "      <th>2014-09-18</th>\n",
       "      <td>424.102997</td>\n",
       "      <td>427.834992</td>\n",
       "      <td>384.532013</td>\n",
       "      <td>394.795990</td>\n",
       "      <td>37919700.0</td>\n",
       "      <td>394.795990</td>\n",
       "    </tr>\n",
       "    <tr>\n",
       "      <th>2014-09-19</th>\n",
       "      <td>394.673004</td>\n",
       "      <td>423.295990</td>\n",
       "      <td>389.882996</td>\n",
       "      <td>408.903992</td>\n",
       "      <td>36863600.0</td>\n",
       "      <td>408.903992</td>\n",
       "    </tr>\n",
       "    <tr>\n",
       "      <th>2014-09-20</th>\n",
       "      <td>408.084992</td>\n",
       "      <td>412.425995</td>\n",
       "      <td>393.181000</td>\n",
       "      <td>398.821014</td>\n",
       "      <td>26580100.0</td>\n",
       "      <td>398.821014</td>\n",
       "    </tr>\n",
       "  </tbody>\n",
       "</table>\n",
       "</div>"
      ],
      "text/plain": [
       "                  Open        High         Low   Adj Close      Volume  \\\n",
       "Date                                                                     \n",
       "2014-09-16  465.864014  468.174011  452.421997  457.334015  21056800.0   \n",
       "2014-09-17  456.859985  456.859985  413.104004  424.440002  34483200.0   \n",
       "2014-09-18  424.102997  427.834992  384.532013  394.795990  37919700.0   \n",
       "2014-09-19  394.673004  423.295990  389.882996  408.903992  36863600.0   \n",
       "2014-09-20  408.084992  412.425995  393.181000  398.821014  26580100.0   \n",
       "\n",
       "                 Close  \n",
       "Date                    \n",
       "2014-09-16  457.334015  \n",
       "2014-09-17  424.440002  \n",
       "2014-09-18  394.795990  \n",
       "2014-09-19  408.903992  \n",
       "2014-09-20  398.821014  "
      ]
     },
     "execution_count": 4,
     "metadata": {},
     "output_type": "execute_result"
    }
   ],
   "source": [
    "# Importing data \n",
    "Bitcoin_data = pd.read_csv('data.csv', parse_dates=['Date'], sep=',', index_col='Date')\n",
    "random.seed(0)\n",
    "np.random.seed(0)\n",
    "torch.manual_seed(0)\n",
    "Bitcoin_data.head(5)"
   ]
  },
  {
   "cell_type": "code",
   "execution_count": 5,
   "id": "c23e3bc1",
   "metadata": {
    "colab": {
     "base_uri": "https://localhost:8080/"
    },
    "id": "c23e3bc1",
    "outputId": "6455fd68-2199-4c49-bc66-ea1fe4323a74"
   },
   "outputs": [
    {
     "name": "stdout",
     "output_type": "stream",
     "text": [
      "<class 'pandas.core.frame.DataFrame'>\n",
      "DatetimeIndex: 2586 entries, 2014-09-16 to 2021-10-19\n",
      "Data columns (total 6 columns):\n",
      " #   Column     Non-Null Count  Dtype  \n",
      "---  ------     --------------  -----  \n",
      " 0   Open       2586 non-null   float64\n",
      " 1   High       2586 non-null   float64\n",
      " 2   Low        2586 non-null   float64\n",
      " 3   Adj Close  2586 non-null   float64\n",
      " 4   Volume     2586 non-null   float64\n",
      " 5   Close      2586 non-null   float64\n",
      "dtypes: float64(6)\n",
      "memory usage: 141.4 KB\n"
     ]
    }
   ],
   "source": [
    "# checking for nulls\n",
    "Bitcoin_data.info()"
   ]
  },
  {
   "cell_type": "markdown",
   "id": "dcdc392f",
   "metadata": {},
   "source": [
    "The\n",
    "dataset has been examined for null values and it didn’t have any missing values."
   ]
  },
  {
   "cell_type": "code",
   "execution_count": 6,
   "id": "88dd9eb1",
   "metadata": {
    "colab": {
     "base_uri": "https://localhost:8080/",
     "height": 81
    },
    "id": "88dd9eb1",
    "outputId": "316643c3-4c07-4bdc-8866-538da31a3344"
   },
   "outputs": [
    {
     "data": {
      "text/html": [
       "<div>\n",
       "<style scoped>\n",
       "    .dataframe tbody tr th:only-of-type {\n",
       "        vertical-align: middle;\n",
       "    }\n",
       "\n",
       "    .dataframe tbody tr th {\n",
       "        vertical-align: top;\n",
       "    }\n",
       "\n",
       "    .dataframe thead th {\n",
       "        text-align: right;\n",
       "    }\n",
       "</style>\n",
       "<table border=\"1\" class=\"dataframe\">\n",
       "  <thead>\n",
       "    <tr style=\"text-align: right;\">\n",
       "      <th></th>\n",
       "      <th>Open</th>\n",
       "      <th>High</th>\n",
       "      <th>Low</th>\n",
       "      <th>Adj Close</th>\n",
       "      <th>Volume</th>\n",
       "      <th>Close</th>\n",
       "    </tr>\n",
       "    <tr>\n",
       "      <th>Date</th>\n",
       "      <th></th>\n",
       "      <th></th>\n",
       "      <th></th>\n",
       "      <th></th>\n",
       "      <th></th>\n",
       "      <th></th>\n",
       "    </tr>\n",
       "  </thead>\n",
       "  <tbody>\n",
       "  </tbody>\n",
       "</table>\n",
       "</div>"
      ],
      "text/plain": [
       "Empty DataFrame\n",
       "Columns: [Open, High, Low, Adj Close, Volume, Close]\n",
       "Index: []"
      ]
     },
     "execution_count": 6,
     "metadata": {},
     "output_type": "execute_result"
    }
   ],
   "source": [
    "# checking if close is not equal to adj close\n",
    "Bitcoin_data[Bitcoin_data['Close']!=Bitcoin_data['Adj Close']]"
   ]
  },
  {
   "cell_type": "markdown",
   "id": "f986db91",
   "metadata": {},
   "source": [
    "The ‘Close’ and ‘Adj Close’\n",
    "columns are identical because Cryptocurrency prices differ\n",
    "from traditional stock prices. So ‘Close’ price is chosen as\n",
    "the target variable."
   ]
  },
  {
   "cell_type": "code",
   "execution_count": 7,
   "id": "e71422e2",
   "metadata": {
    "colab": {
     "base_uri": "https://localhost:8080/",
     "height": 300
    },
    "id": "e71422e2",
    "outputId": "0ef8df3e-908a-47dc-eac3-09e5fe401d10"
   },
   "outputs": [
    {
     "data": {
      "text/html": [
       "<div>\n",
       "<style scoped>\n",
       "    .dataframe tbody tr th:only-of-type {\n",
       "        vertical-align: middle;\n",
       "    }\n",
       "\n",
       "    .dataframe tbody tr th {\n",
       "        vertical-align: top;\n",
       "    }\n",
       "\n",
       "    .dataframe thead th {\n",
       "        text-align: right;\n",
       "    }\n",
       "</style>\n",
       "<table border=\"1\" class=\"dataframe\">\n",
       "  <thead>\n",
       "    <tr style=\"text-align: right;\">\n",
       "      <th></th>\n",
       "      <th>Open</th>\n",
       "      <th>High</th>\n",
       "      <th>Low</th>\n",
       "      <th>Adj Close</th>\n",
       "      <th>Volume</th>\n",
       "      <th>Close</th>\n",
       "    </tr>\n",
       "  </thead>\n",
       "  <tbody>\n",
       "    <tr>\n",
       "      <th>count</th>\n",
       "      <td>2586.000000</td>\n",
       "      <td>2586.000000</td>\n",
       "      <td>2586.000000</td>\n",
       "      <td>2586.000000</td>\n",
       "      <td>2.586000e+03</td>\n",
       "      <td>2586.000000</td>\n",
       "    </tr>\n",
       "    <tr>\n",
       "      <th>mean</th>\n",
       "      <td>9460.479761</td>\n",
       "      <td>9729.703537</td>\n",
       "      <td>9173.223236</td>\n",
       "      <td>9483.798763</td>\n",
       "      <td>1.375499e+10</td>\n",
       "      <td>9483.798763</td>\n",
       "    </tr>\n",
       "    <tr>\n",
       "      <th>std</th>\n",
       "      <td>13881.464139</td>\n",
       "      <td>14299.916556</td>\n",
       "      <td>13424.115329</td>\n",
       "      <td>13919.027751</td>\n",
       "      <td>1.989196e+10</td>\n",
       "      <td>13919.027751</td>\n",
       "    </tr>\n",
       "    <tr>\n",
       "      <th>min</th>\n",
       "      <td>176.897003</td>\n",
       "      <td>211.731003</td>\n",
       "      <td>171.509995</td>\n",
       "      <td>178.102997</td>\n",
       "      <td>5.914570e+06</td>\n",
       "      <td>178.102997</td>\n",
       "    </tr>\n",
       "    <tr>\n",
       "      <th>25%</th>\n",
       "      <td>577.754990</td>\n",
       "      <td>582.823242</td>\n",
       "      <td>573.438751</td>\n",
       "      <td>577.567490</td>\n",
       "      <td>7.406615e+07</td>\n",
       "      <td>577.567490</td>\n",
       "    </tr>\n",
       "    <tr>\n",
       "      <th>50%</th>\n",
       "      <td>5515.076172</td>\n",
       "      <td>5647.827149</td>\n",
       "      <td>5353.012940</td>\n",
       "      <td>5540.485108</td>\n",
       "      <td>4.568140e+09</td>\n",
       "      <td>5540.485108</td>\n",
       "    </tr>\n",
       "    <tr>\n",
       "      <th>75%</th>\n",
       "      <td>9699.704834</td>\n",
       "      <td>9908.871582</td>\n",
       "      <td>9507.834717</td>\n",
       "      <td>9700.673340</td>\n",
       "      <td>2.224211e+10</td>\n",
       "      <td>9700.673340</td>\n",
       "    </tr>\n",
       "    <tr>\n",
       "      <th>max</th>\n",
       "      <td>63523.753910</td>\n",
       "      <td>64863.097660</td>\n",
       "      <td>62208.964840</td>\n",
       "      <td>63503.457030</td>\n",
       "      <td>3.510000e+11</td>\n",
       "      <td>63503.457030</td>\n",
       "    </tr>\n",
       "  </tbody>\n",
       "</table>\n",
       "</div>"
      ],
      "text/plain": [
       "               Open          High           Low     Adj Close        Volume  \\\n",
       "count   2586.000000   2586.000000   2586.000000   2586.000000  2.586000e+03   \n",
       "mean    9460.479761   9729.703537   9173.223236   9483.798763  1.375499e+10   \n",
       "std    13881.464139  14299.916556  13424.115329  13919.027751  1.989196e+10   \n",
       "min      176.897003    211.731003    171.509995    178.102997  5.914570e+06   \n",
       "25%      577.754990    582.823242    573.438751    577.567490  7.406615e+07   \n",
       "50%     5515.076172   5647.827149   5353.012940   5540.485108  4.568140e+09   \n",
       "75%     9699.704834   9908.871582   9507.834717   9700.673340  2.224211e+10   \n",
       "max    63523.753910  64863.097660  62208.964840  63503.457030  3.510000e+11   \n",
       "\n",
       "              Close  \n",
       "count   2586.000000  \n",
       "mean    9483.798763  \n",
       "std    13919.027751  \n",
       "min      178.102997  \n",
       "25%      577.567490  \n",
       "50%     5540.485108  \n",
       "75%     9700.673340  \n",
       "max    63503.457030  "
      ]
     },
     "execution_count": 7,
     "metadata": {},
     "output_type": "execute_result"
    }
   ],
   "source": [
    "# checking the main parameters\n",
    "Bitcoin_data.describe()"
   ]
  },
  {
   "cell_type": "code",
   "execution_count": 8,
   "id": "0b47ad59",
   "metadata": {
    "colab": {
     "base_uri": "https://localhost:8080/",
     "height": 404
    },
    "id": "0b47ad59",
    "outputId": "d40ca689-ef15-4582-930d-ed98058ffb17",
    "scrolled": true
   },
   "outputs": [
    {
     "data": {
      "image/png": "[encoded data removed]",
      "text/plain": [
       "<Figure size 1000x600 with 1 Axes>"
      ]
     },
     "metadata": {},
     "output_type": "display_data"
    }
   ],
   "source": [
    "# Plot closing prices\n",
    "df_close = Bitcoin_data['Close']\n",
    "\n",
    "plt.figure(figsize=(10,6))\n",
    "plt.grid()\n",
    "plt.plot(df_close)\n",
    "plt.xlabel('Date')\n",
    "plt.ylabel('Close Prices')\n",
    "plt.title('Bitcoin Close price');"
   ]
  },
  {
   "cell_type": "markdown",
   "id": "ac9cc491",
   "metadata": {
    "id": "ac9cc491"
   },
   "source": [
    "# Regression"
   ]
  },
  {
   "cell_type": "code",
   "execution_count": 9,
   "id": "ef1a9623",
   "metadata": {},
   "outputs": [
    {
     "name": "stdout",
     "output_type": "stream",
     "text": [
      "Best model: Relative Model\n",
      "Validation RMSE: 0.040611453086811446, MAE: 0.025508574321411164, MAPE: 2.575734468876671\n",
      "\n",
      "Final Test Performance:\n",
      "Test MAPE: 2.707284211211468%\n",
      "Test MAE: 936.5780155135187\n",
      "Test RMSE: 1490.2116374806283\n"
     ]
    }
   ],
   "source": [
    "# Assuming Bitcoin_data is a pandas DataFrame with 'Close' and 'Volume' columns\n",
    "# reg_data is a deep copy of Bitcoin_data to ensure we don't alter the original data\n",
    "reg_data = copy.deepcopy(Bitcoin_data)\n",
    "\n",
    "# Feature Engineering\n",
    "# S_3 is the moving average of 3 previous days, and S_9 is the moving average of 9 previous days\n",
    "reg_data['S_3'] = reg_data['Close'].shift(1).rolling(window=3).mean() \n",
    "reg_data['S_9'] = reg_data['Close'].shift(1).rolling(window=9).mean() \n",
    "\n",
    "# Define X_i as the ith previous close price (lag features)\n",
    "for i in range(1, 11):\n",
    "    reg_data[f\"X_{i}\"] = reg_data['Close'].shift(i)\n",
    "\n",
    "# Define R_i as the ith previous return (Return(t) = P(t) / P(t-1))\n",
    "for i in range(1, 11):\n",
    "    reg_data[f\"R_{i}\"] = reg_data['Close'].shift(i) / reg_data['Close'].shift(i+1)\n",
    "\n",
    "# Define V_i as the ith previous volume\n",
    "for i in range(1, 11):\n",
    "    reg_data[f\"V_{i}\"] = reg_data['Volume'].shift(i)\n",
    "\n",
    "# Drop rows with NaN values resulting from the shift operations\n",
    "reg_data = reg_data.dropna()\n",
    "\n",
    "# Define the feature sets for different models\n",
    "required_features = ['S_3', 'S_9', 'X_1', 'X_2', 'X_3', 'X_4', 'X_5', 'X_6', 'X_7', 'X_8', 'X_9', 'X_10']\n",
    "required_features_r = ['R_1', 'R_2', 'R_3', 'R_4', 'R_5', 'R_6', 'R_7', 'R_8', 'R_9', 'R_10']\n",
    "\n",
    "# Define the output labels\n",
    "output_label = 'Close'\n",
    "reg_data[\"r_1\"] = reg_data[\"Close\"] / reg_data[\"X_1\"]  # Relative change label\n",
    "output_label_r = 'r_1'\n",
    "\n",
    "# Set up train/validation/test split ratios\n",
    "train_ratio = 0.6  # 60% training data\n",
    "validation_ratio = 0.2  # 20% validation data\n",
    "test_ratio = 0.2  # 20% testing data\n",
    "\n",
    "# Calculate the split indices\n",
    "train_end = int(train_ratio * len(reg_data))\n",
    "validation_end = train_end + int(validation_ratio * len(reg_data))\n",
    "\n",
    "# Helper function to calculate metrics\n",
    "def calculate_metrics(model, X_val, y_val, model_name):\n",
    "    y_pred = model.predict(X_val)\n",
    "    mape = mean_absolute_percentage_error(y_val, y_pred) * 100\n",
    "    mae = mean_absolute_error(y_val, y_pred)\n",
    "    rmse = np.sqrt(mean_squared_error(y_val, y_pred))\n",
    "    \n",
    "    # Store results in dictionary\n",
    "    validation_results[model_name] = {'MAPE': mape, 'MAE': mae, 'RMSE': rmse}\n",
    "\n",
    "    return mape, mae, rmse\n",
    "\n",
    "# Store validation results\n",
    "validation_results = {}\n",
    "\n",
    "# ----------- Linear Model with Absolute Values and Moving Averages -----------\n",
    "\n",
    "X = reg_data[required_features]\n",
    "y = reg_data[output_label]\n",
    "\n",
    "# Split the data into train, validation, and test\n",
    "X_train = X[:train_end]\n",
    "y_train = y[:train_end]\n",
    "X_validation = X[train_end:validation_end]\n",
    "y_validation = y[train_end:validation_end]\n",
    "X_test = X[validation_end:]\n",
    "y_test = y[validation_end:]\n",
    "\n",
    "# Train Linear Regression model\n",
    "lin_model = LinearRegression().fit(X_train, y_train)\n",
    "\n",
    "# Calculate validation metrics\n",
    "mape_lin, mae_lin, rmse_lin = calculate_metrics(lin_model, X_validation, y_validation, \"Linear Model\")\n",
    "\n",
    "# ----------- Polynomial Model -----------\n",
    "polynomial_features = PolynomialFeatures(degree=2)\n",
    "X_poly = polynomial_features.fit_transform(X)\n",
    "\n",
    "# Split polynomial transformed data\n",
    "X_train_poly = X_poly[:train_end]\n",
    "X_validation_poly = X_poly[train_end:validation_end]\n",
    "X_test_poly = X_poly[validation_end:]\n",
    "\n",
    "# Train Polynomial model\n",
    "poly_model = LinearRegression().fit(X_train_poly, y_train)\n",
    "\n",
    "# Calculate validation metrics\n",
    "mape_poly, mae_poly, rmse_poly = calculate_metrics(poly_model, X_validation_poly, y_validation, \"Polynomial Model\")\n",
    "\n",
    "# ----------- Linear Model with Relative Values -----------\n",
    "X_r = reg_data[required_features_r]\n",
    "y_r = reg_data[output_label_r]\n",
    "\n",
    "# Split data into train/validation/test\n",
    "X_train_r = X_r[:train_end]\n",
    "y_train_r = y_r[:train_end]\n",
    "X_validation_r = X_r[train_end:validation_end]\n",
    "y_validation_r = y_r[train_end:validation_end]\n",
    "X_test_r = X_r[validation_end:]\n",
    "y_test_r = y_r[validation_end:]\n",
    "\n",
    "# Train Relative Linear Regression model\n",
    "rel_model = LinearRegression().fit(X_train_r, y_train_r)\n",
    "\n",
    "# Calculate validation metrics\n",
    "mape_rel, mae_rel, rmse_rel = calculate_metrics(rel_model, X_validation_r, y_validation_r, \"Relative Model\")\n",
    "\n",
    "\n",
    "# ----------- Compare Validation Results -----------\n",
    "\n",
    "# Select the model with the lowest RMSE on the validation set\n",
    "best_model_name = min(validation_results, key=lambda x: validation_results[x]['RMSE'])\n",
    "best_model_info = validation_results[best_model_name]\n",
    "\n",
    "print(f\"Best model: {best_model_name}\")\n",
    "print(f\"Validation RMSE: {best_model_info['RMSE']}, MAE: {best_model_info['MAE']}, MAPE: {best_model_info['MAPE']}\")\n",
    "\n",
    "# ----------- Apply Best Model to Test Data -----------\n",
    "if best_model_name == \"Linear Model\":\n",
    "    best_model = lin_model\n",
    "    y_pred_test = best_model.predict(X_test)\n",
    "elif best_model_name == \"Polynomial Model\":\n",
    "    best_model = poly_model\n",
    "    y_pred_test = best_model.predict(X_test_poly)\n",
    "elif best_model_name == \"Relative Model\":\n",
    "    best_model = rel_model\n",
    "    y_pred_test = np.multiply(best_model.predict(X_test_r), X_test['X_1'])  # Converting back from relative change\n",
    "\n",
    "# Calculate final performance on test data\n",
    "test_mape = mean_absolute_percentage_error(y_test, y_pred_test) * 100\n",
    "test_mae = mean_absolute_error(y_test, y_pred_test)\n",
    "test_rmse = np.sqrt(mean_squared_error(y_test, y_pred_test))\n",
    "\n",
    "print(\"\\nFinal Test Performance:\")\n",
    "print(f\"Test MAPE: {test_mape}%\")\n",
    "print(f\"Test MAE: {test_mae}\")\n",
    "print(f\"Test RMSE: {test_rmse}\")\n"
   ]
  },
  {
   "cell_type": "code",
   "execution_count": null,
   "id": "7f2099f3",
   "metadata": {},
   "outputs": [],
   "source": []
  }
 ],
 "metadata": {
  "colab": {
   "collapsed_sections": [],
   "name": "Final_Version2.ipynb",
   "provenance": [],
   "toc_visible": true
  },
  "kernelspec": {
   "display_name": "Python 3 (ipykernel)",
   "language": "python",
   "name": "python3"
  },
  "language_info": {
   "codemirror_mode": {
    "name": "ipython",
    "version": 3
   },
   "file_extension": ".py",
   "mimetype": "text/x-python",
   "name": "python",
   "nbconvert_exporter": "python",
   "pygments_lexer": "ipython3",
   "version": "3.11.5"
  }
 },
 "nbformat": 4,
 "nbformat_minor": 5
}
